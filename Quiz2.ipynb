{
 "cells": [
  {
   "cell_type": "markdown",
   "metadata": {},
   "source": [
    "Question2\n",
    "\n",
    "\n",
    "英文:The keyboard enters a set of strings, and then enters two sets of integers to determine the reverse segment of the string to be printed.\n",
    "<br>\n",
    "中文:鍵盤輸入一組字串，再輸入兩組整數，決定要印出字串的反轉片段。\n",
    "<br>\n",
    "keyword:x[::]、x[:]、x[]\n",
    "\n",
    "Input    |Output  |\n",
    "---------|--------|\n",
    "computer |etupmo  |\n",
    "1        |\n",
    "6        |"
   ]
  },
  {
   "cell_type": "code",
   "execution_count": 6,
   "metadata": {},
   "outputs": [
    {
     "name": "stdout",
     "output_type": "stream",
     "text": [
      "gfed\n"
     ]
    }
   ],
   "source": [
    "string = \"abcdefg\"\n",
    "print(string[6:2:-1])"
   ]
  },
  {
   "cell_type": "code",
   "execution_count": null,
   "metadata": {},
   "outputs": [],
   "source": []
  }
 ],
 "metadata": {
  "kernelspec": {
   "display_name": "Python 3",
   "language": "python",
   "name": "python3"
  },
  "language_info": {
   "codemirror_mode": {
    "name": "ipython",
    "version": 3
   },
   "file_extension": ".py",
   "mimetype": "text/x-python",
   "name": "python",
   "nbconvert_exporter": "python",
   "pygments_lexer": "ipython3",
   "version": "3.6.7"
  }
 },
 "nbformat": 4,
 "nbformat_minor": 2
}
