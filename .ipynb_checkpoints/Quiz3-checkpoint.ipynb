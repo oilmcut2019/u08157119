{
 "cells": [
  {
   "cell_type": "markdown",
   "metadata": {},
   "source": [
    "Question3\n",
    "<br>\n",
    "英文:The keyboard inputs four groups of strings, adds the string to the Lists, and then flips the contents of the Lists back and forth.\n",
    "<br>\n",
    "中文:鍵盤輸入四組字串，將所有輸入字串添加到Lists，再將Lists中所有資料前後翻轉印出。\n",
    "\n",
    "Input     |Output  |\n",
    "----------|--------|\n",
    "computer  |[science,mango,kidness,computer]|\n",
    "kidness   ||\n",
    "mango     ||\n",
    "science   ||"
   ]
  },
  {
   "cell_type": "code",
   "execution_count": null,
   "metadata": {},
   "outputs": [],
   "source": []
  }
 ],
 "metadata": {
  "kernelspec": {
   "display_name": "Python 3",
   "language": "python",
   "name": "python3"
  },
  "language_info": {
   "codemirror_mode": {
    "name": "ipython",
    "version": 3
   },
   "file_extension": ".py",
   "mimetype": "text/x-python",
   "name": "python",
   "nbconvert_exporter": "python",
   "pygments_lexer": "ipython3",
   "version": "3.7.3"
  }
 },
 "nbformat": 4,
 "nbformat_minor": 2
}
