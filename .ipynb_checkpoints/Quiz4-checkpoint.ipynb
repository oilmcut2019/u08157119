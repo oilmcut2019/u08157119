{
 "cells": [
  {
   "cell_type": "markdown",
   "metadata": {},
   "source": [
    "Question1\n",
    "\n",
    "\n",
    "英文:Enter a set of strings to print the inverted string of the string.\n",
    "<br>\n",
    "中文:輸入一組字串，印出該字串的反轉字串。\n",
    "<br>\n",
    "keyword:x[::]、x[:]、x[]\n",
    "\n",
    "\n",
    "Input   |Output  |\n",
    "------- |--------|\n",
    "retupmoc|computer|"
   ]
  },
  {
   "cell_type": "code",
   "execution_count": 7,
   "metadata": {},
   "outputs": [
    {
     "name": "stdout",
     "output_type": "stream",
     "text": [
      "retupmoc\n",
      "computer\n"
     ]
    }
   ],
   "source": [
    "x=str(input())\n",
    "print(x[-1:0:-1]+x[0])"
   ]
  },
  {
   "cell_type": "markdown",
   "metadata": {},
   "source": [
    "Question2\n",
    "\n",
    "\n",
    "英文:The keyboard enters a set of strings, and then enters two sets of integers to determine the reverse segment of the string to be printed.\n",
    "<br>\n",
    "中文:鍵盤輸入一組字串，再輸入兩組整數，決定要印出字串的反轉片段。\n",
    "<br>\n",
    "keyword:x[::]、x[:]、x[]\n",
    "\n",
    "Input    |Output  |\n",
    "---------|--------|\n",
    "computer |etupmo  |\n",
    "1        |\n",
    "6        |"
   ]
  },
  {
   "cell_type": "code",
   "execution_count": 3,
   "metadata": {},
   "outputs": [
    {
     "name": "stdout",
     "output_type": "stream",
     "text": [
      "computer\n",
      "1\n",
      "6\n",
      "etupmo\n"
     ]
    }
   ],
   "source": [
    "x=str(input())\n",
    "y=int(input())\n",
    "z=int(input())\n",
    "print(x[z:y:-1]+x[y])"
   ]
  },
  {
   "cell_type": "markdown",
   "metadata": {},
   "source": [
    "Question3\n",
    "<br>\n",
    "英文:The keyboard inputs four sets of strings and prints the Lists in the reverse order of the input string.\n",
    "<br>\n",
    "中文:鍵盤輸入四組字串，印出與輸入字串相反順序的Lists。\n",
    "\n",
    "Input     |Output  |\n",
    "----------|--------|\n",
    "computer  |[science,mango,kidness,computer]|\n",
    "kindness   ||\n",
    "mango     ||\n",
    "science   ||"
   ]
  },
  {
   "cell_type": "code",
   "execution_count": 6,
   "metadata": {},
   "outputs": [
    {
     "name": "stdout",
     "output_type": "stream",
     "text": [
      "computer\n",
      "kindness\n",
      "mango\n",
      "science\n",
      "['science', 'mango', 'kindness', 'computer']\n"
     ]
    }
   ],
   "source": [
    "z=[]\n",
    "z.append(str(input()))\n",
    "z.append(str(input()))\n",
    "z.append(str(input()))\n",
    "z.append(str(input()))\n",
    "z.reverse()\n",
    "print(z)"
   ]
  }
 ],
 "metadata": {
  "kernelspec": {
   "display_name": "Python 3",
   "language": "python",
   "name": "python3"
  },
  "language_info": {
   "codemirror_mode": {
    "name": "ipython",
    "version": 3
   },
   "file_extension": ".py",
   "mimetype": "text/x-python",
   "name": "python",
   "nbconvert_exporter": "python",
   "pygments_lexer": "ipython3",
   "version": "3.7.3"
  }
 },
 "nbformat": 4,
 "nbformat_minor": 2
}
