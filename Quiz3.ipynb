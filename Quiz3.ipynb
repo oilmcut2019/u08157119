{
 "cells": [
  {
   "cell_type": "markdown",
   "metadata": {},
   "source": [
    "Question3\n",
    "<br>\n",
    "英文:The keyboard inputs four sets of strings and prints the Lists in the reverse order of the input string.\n",
    "<br>\n",
    "中文:鍵盤輸入四組字串，印出與輸入字串相反順序的Lists。\n",
    "\n",
    "Input     |Output  |\n",
    "----------|--------|\n",
    "computer  |[science,mango,kidness,computer]|\n",
    "kidness   ||\n",
    "mango     ||\n",
    "science   ||"
   ]
  },
  {
   "cell_type": "code",
   "execution_count": 4,
   "metadata": {},
   "outputs": [
    {
     "name": "stdout",
     "output_type": "stream",
     "text": [
      "['hij', 'ghi', 'def', 'abc']\n"
     ]
    }
   ],
   "source": [
    "x=['abc','def','ghi','hij']\n",
    "x.reverse()\n",
    "print(x)"
   ]
  },
  {
   "cell_type": "code",
   "execution_count": null,
   "metadata": {},
   "outputs": [],
   "source": []
  }
 ],
 "metadata": {
  "kernelspec": {
   "display_name": "Python 3",
   "language": "python",
   "name": "python3"
  },
  "language_info": {
   "codemirror_mode": {
    "name": "ipython",
    "version": 3
   },
   "file_extension": ".py",
   "mimetype": "text/x-python",
   "name": "python",
   "nbconvert_exporter": "python",
   "pygments_lexer": "ipython3",
   "version": "3.6.7"
  }
 },
 "nbformat": 4,
 "nbformat_minor": 2
}
